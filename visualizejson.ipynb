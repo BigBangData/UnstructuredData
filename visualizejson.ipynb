{
 "cells": [
  {
   "cell_type": "markdown",
   "metadata": {},
   "source": [
    "### Python processing of JSON files to build visualizations using matplotlib"
   ]
  },
  {
   "cell_type": "code",
   "execution_count": 128,
   "metadata": {},
   "outputs": [],
   "source": [
    "# import libraries\n",
    "import sys\n",
    "import os\n",
    "import re\n",
    "import json\n",
    "import matplotlib.pyplot as plt"
   ]
  },
  {
   "cell_type": "code",
   "execution_count": 129,
   "metadata": {},
   "outputs": [],
   "source": [
    "# path to maps and map image dictionary\n",
    "PATH_TO_WW2_MAPS = '../week6/cwl-data/maps/ww2/'\n",
    "\n",
    "MAP_IMAGES = {\n",
    "    'Aachen': 'aachen.png',\n",
    "    'Ardennes Forest': 'ardennes_forest.png',\n",
    "    'Flak Tower': 'flaktower.png',\n",
    "    'Gibraltar': 'gibraltar.png',\n",
    "    'London Docks': 'london_docks.png',\n",
    "    'Sainte Marie du Mont': 'sainte_marie_du_mont.png' ,\n",
    "    'USS Texas': 'uss_texas.png',\n",
    "    'Valkyrie': 'valkyrie.png'\n",
    "}"
   ]
  },
  {
   "cell_type": "code",
   "execution_count": 130,
   "metadata": {},
   "outputs": [],
   "source": [
    "# list of events\n",
    "pattern = re.compile(r'structured-2018')\n",
    "event_list = list(filter(pattern.match, os.listdir(\"./\")))\n",
    "#event_list\n",
    "\n",
    "# dictionary of events and list of matches given an event\n",
    "# {event:[match list]}\n",
    "dict_event_matches = {}\n",
    "for i in range(0, len(event_list)):\n",
    "    dict_event_matches.update({event_list[i]: os.listdir('./{}'.format(event_list[i]))})"
   ]
  },
  {
   "cell_type": "code",
   "execution_count": 131,
   "metadata": {},
   "outputs": [],
   "source": [
    "# create directory for PNG plots\n",
    "PATH_TO_PICS = './png_plots/'\n",
    "\n",
    "if not os.path.exists(PATH_TO_PICS):\n",
    "    os.makedirs(PATH_TO_PICS)\n",
    "     \n",
    "FIGURE_NAME = MATCH.split('.')[0] + str('.png')"
   ]
  },
  {
   "cell_type": "code",
   "execution_count": 132,
   "metadata": {},
   "outputs": [],
   "source": [
    "#for i in dict_event_matches:\n",
    "#    print(i)\n",
    "#    print(' '*1000)\n",
    "#    print(len(dict_event_matches[str(i)]))\n",
    "#    print(' '*10000)"
   ]
  },
  {
   "cell_type": "code",
   "execution_count": 133,
   "metadata": {},
   "outputs": [
    {
     "ename": "KeyError",
     "evalue": "'8'",
     "output_type": "error",
     "traceback": [
      "\u001b[0;31m---------------------------------------------------------------------------\u001b[0m",
      "\u001b[0;31mKeyError\u001b[0m                                  Traceback (most recent call last)",
      "\u001b[0;32m<ipython-input-133-26960bf4a9f0>\u001b[0m in \u001b[0;36m<module>\u001b[0;34m\u001b[0m\n\u001b[1;32m      1\u001b[0m \u001b[0mmatch_files\u001b[0m \u001b[0;34m=\u001b[0m \u001b[0;34m[\u001b[0m\u001b[0;34m]\u001b[0m\u001b[0;34m\u001b[0m\u001b[0;34m\u001b[0m\u001b[0m\n\u001b[1;32m      2\u001b[0m \u001b[0;32mfor\u001b[0m \u001b[0mEVENT\u001b[0m \u001b[0;32min\u001b[0m \u001b[0mdict_event_matches\u001b[0m\u001b[0;34m:\u001b[0m\u001b[0;34m\u001b[0m\u001b[0;34m\u001b[0m\u001b[0m\n\u001b[0;32m----> 3\u001b[0;31m     \u001b[0;32mfor\u001b[0m \u001b[0mMATCH\u001b[0m \u001b[0;32min\u001b[0m \u001b[0mdict_event_matches\u001b[0m\u001b[0;34m[\u001b[0m\u001b[0mstr\u001b[0m\u001b[0;34m(\u001b[0m\u001b[0mi\u001b[0m\u001b[0;34m)\u001b[0m\u001b[0;34m]\u001b[0m\u001b[0;34m:\u001b[0m\u001b[0;34m\u001b[0m\u001b[0;34m\u001b[0m\u001b[0m\n\u001b[0m\u001b[1;32m      4\u001b[0m         \u001b[0mmatch_file\u001b[0m\u001b[0;34m.\u001b[0m\u001b[0mappend\u001b[0m\u001b[0;34m(\u001b[0m\u001b[0;34m'./{}{}'\u001b[0m\u001b[0;34m.\u001b[0m\u001b[0mformat\u001b[0m\u001b[0;34m(\u001b[0m\u001b[0mEVENT\u001b[0m\u001b[0;34m,\u001b[0m \u001b[0mMATCH\u001b[0m\u001b[0;34m)\u001b[0m\u001b[0;34m)\u001b[0m\u001b[0;34m\u001b[0m\u001b[0;34m\u001b[0m\u001b[0m\n\u001b[1;32m      5\u001b[0m \u001b[0;34m\u001b[0m\u001b[0m\n",
      "\u001b[0;31mKeyError\u001b[0m: '8'"
     ]
    }
   ],
   "source": [
    "match_files = []\n",
    "for EVENT in dict_event_matches:\n",
    "    for MATCH in dict_event_matches[str(i)]:\n",
    "        match_file.append('./{}{}'.format(EVENT, MATCH))\n",
    "\n",
    "for i in range(0, len(match_files)):\n",
    "    print(i)\n",
    "    with open(match_files[i], 'r') as match_file:\n",
    "        # get match data\n",
    "        match = json.load(match_file)\n",
    "\n",
    "        death_pos, spawn_pos = {'x': [], 'y': []}, {'x': [], 'y': []}\n",
    "\n",
    "        # get pos data\n",
    "        events = match['events']\n",
    "        for evt in events:\n",
    "            if evt['type'] == 'spawn':\n",
    "                spawn_pos['x'].append( evt['data']['pos']['x'] )\n",
    "                spawn_pos['y'].append( evt['data']['pos']['y'] )\n",
    "            if evt['type'] == 'death':\n",
    "                death_pos['x'].append( evt['data']['pos']['x'] )\n",
    "                death_pos['y'].append( evt['data']['pos']['y'] )\n",
    "\n",
    "        # get map image\n",
    "        map_file_name = PATH_TO_WW2_MAPS + MAP_IMAGES[match['map']]\n",
    "        map_image = plt.imread(map_file_name)\n",
    "\n",
    "        # create figure\n",
    "        fig, ax = plt.subplots(1,1)\n",
    "        fig.set_figheight(15)\n",
    "        fig.set_figwidth(15)\n",
    "        # plot map\n",
    "        ax.imshow(map_image)\n",
    "        ax.set_facecolor((180/255.0, 200/255.0, 220/255.0))\n",
    "        # plot spawns\n",
    "        ax.scatter(spawn_pos['x'], spawn_pos['y'], color='blue')\n",
    "        # plot deaths\n",
    "        ax.scatter(death_pos['x'], death_pos['y'], color='red')\n",
    "        # plot spawn-death vectors\n",
    "        for i in range( len(death_pos['x']) ):\n",
    "            plt.plot([spawn_pos['x'][i], death_pos['x'][i]], \n",
    "                     [spawn_pos['y'][i], death_pos['y'][i]], color='dimgrey')\n",
    "        # set title\n",
    "        ax.set_title('{} ({})'.format(match['map'], match['mode']))\n",
    "        # save as png\n",
    "        fig.savefig('./{}{}'.format(PATH_TO_PICS, FIGURE_NAME))\n",
    "        plt.close(fig)\n",
    "\n",
    "            "
   ]
  },
  {
   "cell_type": "code",
   "execution_count": 65,
   "metadata": {},
   "outputs": [],
   "source": [
    "# load match data and save a PNG of match actions\n",
    "\n",
    "\n",
    "with open('./{}{}'.format(EVENT, MATCH), 'r') as match_file:\n",
    "    # get match data\n",
    "    match = json.load(match_file)\n",
    "\n",
    "    death_pos, spawn_pos = {'x': [], 'y': []}, {'x': [], 'y': []}\n",
    "    \n",
    "    # get pos data\n",
    "    events = match['events']\n",
    "    for evt in events:\n",
    "        if evt['type'] == 'spawn':\n",
    "            spawn_pos['x'].append( evt['data']['pos']['x'] )\n",
    "            spawn_pos['y'].append( evt['data']['pos']['y'] )\n",
    "        if evt['type'] == 'death':\n",
    "            death_pos['x'].append( evt['data']['pos']['x'] )\n",
    "            death_pos['y'].append( evt['data']['pos']['y'] )\n",
    "\n",
    "    # get map image\n",
    "    map_file_name = PATH_TO_WW2_MAPS + MAP_IMAGES[match['map']]\n",
    "    map_image = plt.imread(map_file_name)\n",
    "\n",
    "    # create figure\n",
    "    fig, ax = plt.subplots(1,1)\n",
    "    fig.set_figheight(15)\n",
    "    fig.set_figwidth(15)\n",
    "    # plot map\n",
    "    ax.imshow(map_image)\n",
    "    ax.set_facecolor((180/255.0, 200/255.0, 220/255.0))\n",
    "    # plot spawns\n",
    "    ax.scatter(spawn_pos['x'], spawn_pos['y'], color='blue')\n",
    "    # plot deaths\n",
    "    ax.scatter(death_pos['x'], death_pos['y'], color='red')\n",
    "    # plot spawn-death vectors\n",
    "    for i in range( len(death_pos['x']) ):\n",
    "        plt.plot([spawn_pos['x'][i], death_pos['x'][i]], \n",
    "                 [spawn_pos['y'][i], death_pos['y'][i]], color='dimgrey')\n",
    "    # set title\n",
    "    ax.set_title('{} ({})'.format(match['map'], match['mode']))\n",
    "    # save as png\n",
    "    fig.savefig('./{}{}'.format(PATH_TO_PICS, FIGURE_NAME))\n",
    "    plt.close(fig)\n",
    "    \n",
    "    \n",
    "    \n",
    "    "
   ]
  },
  {
   "cell_type": "code",
   "execution_count": null,
   "metadata": {},
   "outputs": [],
   "source": []
  },
  {
   "cell_type": "code",
   "execution_count": null,
   "metadata": {},
   "outputs": [],
   "source": []
  }
 ],
 "metadata": {
  "kernelspec": {
   "display_name": "Python 3",
   "language": "python",
   "name": "python3"
  },
  "language_info": {
   "codemirror_mode": {
    "name": "ipython",
    "version": 3
   },
   "file_extension": ".py",
   "mimetype": "text/x-python",
   "name": "python",
   "nbconvert_exporter": "python",
   "pygments_lexer": "ipython3",
   "version": "3.7.2"
  }
 },
 "nbformat": 4,
 "nbformat_minor": 2
}
